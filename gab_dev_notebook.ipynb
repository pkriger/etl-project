{
 "cells": [
  {
   "cell_type": "code",
   "execution_count": 1,
   "id": "wicked-yellow",
   "metadata": {},
   "outputs": [],
   "source": [
    "import pandas as pd\n",
    "import csv\n"
   ]
  },
  {
   "cell_type": "code",
   "execution_count": 2,
   "id": "synthetic-salon",
   "metadata": {},
   "outputs": [],
   "source": [
    "final_df_path = \"./final_omdb_df.csv\"\n",
    "omdb_df = pd.read_csv(final_df_path)"
   ]
  },
  {
   "cell_type": "code",
   "execution_count": 3,
   "id": "lesser-times",
   "metadata": {},
   "outputs": [
    {
     "data": {
      "text/html": [
       "<div>\n",
       "<style scoped>\n",
       "    .dataframe tbody tr th:only-of-type {\n",
       "        vertical-align: middle;\n",
       "    }\n",
       "\n",
       "    .dataframe tbody tr th {\n",
       "        vertical-align: top;\n",
       "    }\n",
       "\n",
       "    .dataframe thead th {\n",
       "        text-align: right;\n",
       "    }\n",
       "</style>\n",
       "<table border=\"1\" class=\"dataframe\">\n",
       "  <thead>\n",
       "    <tr style=\"text-align: right;\">\n",
       "      <th></th>\n",
       "      <th>Unnamed: 0</th>\n",
       "      <th>imdb_id</th>\n",
       "      <th>Genre</th>\n",
       "      <th>Title</th>\n",
       "      <th>runtime</th>\n",
       "      <th>rated</th>\n",
       "      <th>Critics_scores</th>\n",
       "    </tr>\n",
       "  </thead>\n",
       "  <tbody>\n",
       "    <tr>\n",
       "      <th>0</th>\n",
       "      <td>0</td>\n",
       "      <td>tt0000009</td>\n",
       "      <td>Short, Romance</td>\n",
       "      <td>Miss Jerry</td>\n",
       "      <td>40 min</td>\n",
       "      <td>NaN</td>\n",
       "      <td>[{'Source': 'Internet Movie Database', 'Value'...</td>\n",
       "    </tr>\n",
       "    <tr>\n",
       "      <th>1</th>\n",
       "      <td>1</td>\n",
       "      <td>tt0000574</td>\n",
       "      <td>Action, Adventure, Biography, Crime, Drama, Hi...</td>\n",
       "      <td>The Story of the Kelly Gang</td>\n",
       "      <td>70 min</td>\n",
       "      <td>Not Rated</td>\n",
       "      <td>[{'Source': 'Internet Movie Database', 'Value'...</td>\n",
       "    </tr>\n",
       "    <tr>\n",
       "      <th>2</th>\n",
       "      <td>2</td>\n",
       "      <td>tt0001892</td>\n",
       "      <td>Drama</td>\n",
       "      <td>Den sorte drøm</td>\n",
       "      <td>53 min</td>\n",
       "      <td>NaN</td>\n",
       "      <td>[{'Source': 'Internet Movie Database', 'Value'...</td>\n",
       "    </tr>\n",
       "    <tr>\n",
       "      <th>3</th>\n",
       "      <td>3</td>\n",
       "      <td>tt0002101</td>\n",
       "      <td>Drama, History</td>\n",
       "      <td>Cleopatra</td>\n",
       "      <td>100 min</td>\n",
       "      <td>Unrated</td>\n",
       "      <td>[{'Source': 'Internet Movie Database', 'Value'...</td>\n",
       "    </tr>\n",
       "    <tr>\n",
       "      <th>4</th>\n",
       "      <td>4</td>\n",
       "      <td>tt0002130</td>\n",
       "      <td>Adventure, Drama, Fantasy, Horror</td>\n",
       "      <td>Dante's Inferno</td>\n",
       "      <td>71 min</td>\n",
       "      <td>NaN</td>\n",
       "      <td>[{'Source': 'Internet Movie Database', 'Value'...</td>\n",
       "    </tr>\n",
       "  </tbody>\n",
       "</table>\n",
       "</div>"
      ],
      "text/plain": [
       "   Unnamed: 0    imdb_id                                              Genre  \\\n",
       "0           0  tt0000009                                     Short, Romance   \n",
       "1           1  tt0000574  Action, Adventure, Biography, Crime, Drama, Hi...   \n",
       "2           2  tt0001892                                              Drama   \n",
       "3           3  tt0002101                                     Drama, History   \n",
       "4           4  tt0002130                  Adventure, Drama, Fantasy, Horror   \n",
       "\n",
       "                         Title  runtime      rated  \\\n",
       "0                   Miss Jerry   40 min        NaN   \n",
       "1  The Story of the Kelly Gang   70 min  Not Rated   \n",
       "2               Den sorte drøm   53 min        NaN   \n",
       "3                    Cleopatra  100 min    Unrated   \n",
       "4              Dante's Inferno   71 min        NaN   \n",
       "\n",
       "                                      Critics_scores  \n",
       "0  [{'Source': 'Internet Movie Database', 'Value'...  \n",
       "1  [{'Source': 'Internet Movie Database', 'Value'...  \n",
       "2  [{'Source': 'Internet Movie Database', 'Value'...  \n",
       "3  [{'Source': 'Internet Movie Database', 'Value'...  \n",
       "4  [{'Source': 'Internet Movie Database', 'Value'...  "
      ]
     },
     "execution_count": 3,
     "metadata": {},
     "output_type": "execute_result"
    }
   ],
   "source": [
    "omdb_df.head()"
   ]
  },
  {
   "cell_type": "code",
   "execution_count": 4,
   "id": "controlling-herald",
   "metadata": {},
   "outputs": [],
   "source": [
    "omdb_df['Critics_scores']=omdb_df['Critics_scores'].str.strip()"
   ]
  },
  {
   "cell_type": "code",
   "execution_count": 6,
   "id": "powerful-optics",
   "metadata": {},
   "outputs": [
    {
     "data": {
      "text/plain": [
       "0    [{'Source': 'Internet Movie Database', 'Value'...\n",
       "1    [{'Source': 'Internet Movie Database', 'Value'...\n",
       "2    [{'Source': 'Internet Movie Database', 'Value'...\n",
       "3    [{'Source': 'Internet Movie Database', 'Value'...\n",
       "4    [{'Source': 'Internet Movie Database', 'Value'...\n",
       "Name: Critics_scores, dtype: object"
      ]
     },
     "execution_count": 6,
     "metadata": {},
     "output_type": "execute_result"
    }
   ],
   "source": [
    "omdb_df['Critics_scores'].head()"
   ]
  },
  {
   "cell_type": "code",
   "execution_count": 7,
   "id": "polish-ladder",
   "metadata": {},
   "outputs": [
    {
     "data": {
      "text/html": [
       "<div>\n",
       "<style scoped>\n",
       "    .dataframe tbody tr th:only-of-type {\n",
       "        vertical-align: middle;\n",
       "    }\n",
       "\n",
       "    .dataframe tbody tr th {\n",
       "        vertical-align: top;\n",
       "    }\n",
       "\n",
       "    .dataframe thead th {\n",
       "        text-align: right;\n",
       "    }\n",
       "</style>\n",
       "<table border=\"1\" class=\"dataframe\">\n",
       "  <thead>\n",
       "    <tr style=\"text-align: right;\">\n",
       "      <th></th>\n",
       "      <th>Unnamed: 0</th>\n",
       "      <th>imdb_id</th>\n",
       "      <th>Genre</th>\n",
       "      <th>Title</th>\n",
       "      <th>runtime</th>\n",
       "      <th>rated</th>\n",
       "    </tr>\n",
       "  </thead>\n",
       "  <tbody>\n",
       "    <tr>\n",
       "      <th>0</th>\n",
       "      <td>0</td>\n",
       "      <td>tt0000009</td>\n",
       "      <td>Short, Romance</td>\n",
       "      <td>Miss Jerry</td>\n",
       "      <td>40 min</td>\n",
       "      <td>NaN</td>\n",
       "    </tr>\n",
       "    <tr>\n",
       "      <th>1</th>\n",
       "      <td>1</td>\n",
       "      <td>tt0000574</td>\n",
       "      <td>Action, Adventure, Biography, Crime, Drama, Hi...</td>\n",
       "      <td>The Story of the Kelly Gang</td>\n",
       "      <td>70 min</td>\n",
       "      <td>Not Rated</td>\n",
       "    </tr>\n",
       "    <tr>\n",
       "      <th>2</th>\n",
       "      <td>2</td>\n",
       "      <td>tt0001892</td>\n",
       "      <td>Drama</td>\n",
       "      <td>Den sorte drøm</td>\n",
       "      <td>53 min</td>\n",
       "      <td>NaN</td>\n",
       "    </tr>\n",
       "    <tr>\n",
       "      <th>3</th>\n",
       "      <td>3</td>\n",
       "      <td>tt0002101</td>\n",
       "      <td>Drama, History</td>\n",
       "      <td>Cleopatra</td>\n",
       "      <td>100 min</td>\n",
       "      <td>Unrated</td>\n",
       "    </tr>\n",
       "    <tr>\n",
       "      <th>4</th>\n",
       "      <td>4</td>\n",
       "      <td>tt0002130</td>\n",
       "      <td>Adventure, Drama, Fantasy, Horror</td>\n",
       "      <td>Dante's Inferno</td>\n",
       "      <td>71 min</td>\n",
       "      <td>NaN</td>\n",
       "    </tr>\n",
       "    <tr>\n",
       "      <th>...</th>\n",
       "      <td>...</td>\n",
       "      <td>...</td>\n",
       "      <td>...</td>\n",
       "      <td>...</td>\n",
       "      <td>...</td>\n",
       "      <td>...</td>\n",
       "    </tr>\n",
       "    <tr>\n",
       "      <th>29143</th>\n",
       "      <td>864</td>\n",
       "      <td>tt0054698</td>\n",
       "      <td>Comedy, Drama, Romance</td>\n",
       "      <td>Breakfast at Tiffany's</td>\n",
       "      <td>115 min</td>\n",
       "      <td>Approved</td>\n",
       "    </tr>\n",
       "    <tr>\n",
       "      <th>29144</th>\n",
       "      <td>865</td>\n",
       "      <td>tt0049261</td>\n",
       "      <td>Drama, Western</td>\n",
       "      <td>Giant</td>\n",
       "      <td>201 min</td>\n",
       "      <td>G</td>\n",
       "    </tr>\n",
       "    <tr>\n",
       "      <th>29145</th>\n",
       "      <td>866</td>\n",
       "      <td>tt0045793</td>\n",
       "      <td>Drama, Romance, War</td>\n",
       "      <td>From Here to Eternity</td>\n",
       "      <td>118 min</td>\n",
       "      <td>Passed</td>\n",
       "    </tr>\n",
       "    <tr>\n",
       "      <th>29146</th>\n",
       "      <td>867</td>\n",
       "      <td>tt0037017</td>\n",
       "      <td>Drama, War</td>\n",
       "      <td>Lifeboat</td>\n",
       "      <td>97 min</td>\n",
       "      <td>Not Rated</td>\n",
       "    </tr>\n",
       "    <tr>\n",
       "      <th>29147</th>\n",
       "      <td>868</td>\n",
       "      <td>tt0026029</td>\n",
       "      <td>Crime, Mystery, Thriller</td>\n",
       "      <td>The 39 Steps</td>\n",
       "      <td>86 min</td>\n",
       "      <td>Approved</td>\n",
       "    </tr>\n",
       "  </tbody>\n",
       "</table>\n",
       "<p>29148 rows × 6 columns</p>\n",
       "</div>"
      ],
      "text/plain": [
       "       Unnamed: 0    imdb_id  \\\n",
       "0               0  tt0000009   \n",
       "1               1  tt0000574   \n",
       "2               2  tt0001892   \n",
       "3               3  tt0002101   \n",
       "4               4  tt0002130   \n",
       "...           ...        ...   \n",
       "29143         864  tt0054698   \n",
       "29144         865  tt0049261   \n",
       "29145         866  tt0045793   \n",
       "29146         867  tt0037017   \n",
       "29147         868  tt0026029   \n",
       "\n",
       "                                                   Genre  \\\n",
       "0                                         Short, Romance   \n",
       "1      Action, Adventure, Biography, Crime, Drama, Hi...   \n",
       "2                                                  Drama   \n",
       "3                                         Drama, History   \n",
       "4                      Adventure, Drama, Fantasy, Horror   \n",
       "...                                                  ...   \n",
       "29143                             Comedy, Drama, Romance   \n",
       "29144                                     Drama, Western   \n",
       "29145                                Drama, Romance, War   \n",
       "29146                                         Drama, War   \n",
       "29147                           Crime, Mystery, Thriller   \n",
       "\n",
       "                             Title  runtime      rated  \n",
       "0                       Miss Jerry   40 min        NaN  \n",
       "1      The Story of the Kelly Gang   70 min  Not Rated  \n",
       "2                   Den sorte drøm   53 min        NaN  \n",
       "3                        Cleopatra  100 min    Unrated  \n",
       "4                  Dante's Inferno   71 min        NaN  \n",
       "...                            ...      ...        ...  \n",
       "29143       Breakfast at Tiffany's  115 min   Approved  \n",
       "29144                        Giant  201 min          G  \n",
       "29145        From Here to Eternity  118 min     Passed  \n",
       "29146                     Lifeboat   97 min  Not Rated  \n",
       "29147                 The 39 Steps   86 min   Approved  \n",
       "\n",
       "[29148 rows x 6 columns]"
      ]
     },
     "execution_count": 7,
     "metadata": {},
     "output_type": "execute_result"
    }
   ],
   "source": [
    "omdb_df.drop(columns=['Critics_scores'])"
   ]
  },
  {
   "cell_type": "code",
   "execution_count": 10,
   "id": "noble-coffee",
   "metadata": {},
   "outputs": [
    {
     "data": {
      "text/plain": [
       "0        2\n",
       "643      2\n",
       "609      2\n",
       "17       2\n",
       "421      2\n",
       "        ..\n",
       "10608    1\n",
       "8561     1\n",
       "14706    1\n",
       "12659    1\n",
       "10219    1\n",
       "Name: Unnamed: 0, Length: 28279, dtype: int64"
      ]
     },
     "execution_count": 10,
     "metadata": {},
     "output_type": "execute_result"
    }
   ],
   "source": [
    "omdb_df['Unnamed: 0'].value_counts()"
   ]
  },
  {
   "cell_type": "code",
   "execution_count": 11,
   "id": "unlikely-blair",
   "metadata": {},
   "outputs": [],
   "source": [
    "omdb_df=omdb_df.drop(columns=['Critics_scores', 'Unnamed: 0'])"
   ]
  },
  {
   "cell_type": "code",
   "execution_count": 12,
   "id": "spread-group",
   "metadata": {},
   "outputs": [
    {
     "data": {
      "text/html": [
       "<div>\n",
       "<style scoped>\n",
       "    .dataframe tbody tr th:only-of-type {\n",
       "        vertical-align: middle;\n",
       "    }\n",
       "\n",
       "    .dataframe tbody tr th {\n",
       "        vertical-align: top;\n",
       "    }\n",
       "\n",
       "    .dataframe thead th {\n",
       "        text-align: right;\n",
       "    }\n",
       "</style>\n",
       "<table border=\"1\" class=\"dataframe\">\n",
       "  <thead>\n",
       "    <tr style=\"text-align: right;\">\n",
       "      <th></th>\n",
       "      <th>imdb_id</th>\n",
       "      <th>Genre</th>\n",
       "      <th>Title</th>\n",
       "      <th>runtime</th>\n",
       "      <th>rated</th>\n",
       "    </tr>\n",
       "  </thead>\n",
       "  <tbody>\n",
       "    <tr>\n",
       "      <th>0</th>\n",
       "      <td>tt0000009</td>\n",
       "      <td>Short, Romance</td>\n",
       "      <td>Miss Jerry</td>\n",
       "      <td>40 min</td>\n",
       "      <td>NaN</td>\n",
       "    </tr>\n",
       "    <tr>\n",
       "      <th>1</th>\n",
       "      <td>tt0000574</td>\n",
       "      <td>Action, Adventure, Biography, Crime, Drama, Hi...</td>\n",
       "      <td>The Story of the Kelly Gang</td>\n",
       "      <td>70 min</td>\n",
       "      <td>Not Rated</td>\n",
       "    </tr>\n",
       "    <tr>\n",
       "      <th>2</th>\n",
       "      <td>tt0001892</td>\n",
       "      <td>Drama</td>\n",
       "      <td>Den sorte drøm</td>\n",
       "      <td>53 min</td>\n",
       "      <td>NaN</td>\n",
       "    </tr>\n",
       "    <tr>\n",
       "      <th>3</th>\n",
       "      <td>tt0002101</td>\n",
       "      <td>Drama, History</td>\n",
       "      <td>Cleopatra</td>\n",
       "      <td>100 min</td>\n",
       "      <td>Unrated</td>\n",
       "    </tr>\n",
       "    <tr>\n",
       "      <th>4</th>\n",
       "      <td>tt0002130</td>\n",
       "      <td>Adventure, Drama, Fantasy, Horror</td>\n",
       "      <td>Dante's Inferno</td>\n",
       "      <td>71 min</td>\n",
       "      <td>NaN</td>\n",
       "    </tr>\n",
       "  </tbody>\n",
       "</table>\n",
       "</div>"
      ],
      "text/plain": [
       "     imdb_id                                              Genre  \\\n",
       "0  tt0000009                                     Short, Romance   \n",
       "1  tt0000574  Action, Adventure, Biography, Crime, Drama, Hi...   \n",
       "2  tt0001892                                              Drama   \n",
       "3  tt0002101                                     Drama, History   \n",
       "4  tt0002130                  Adventure, Drama, Fantasy, Horror   \n",
       "\n",
       "                         Title  runtime      rated  \n",
       "0                   Miss Jerry   40 min        NaN  \n",
       "1  The Story of the Kelly Gang   70 min  Not Rated  \n",
       "2               Den sorte drøm   53 min        NaN  \n",
       "3                    Cleopatra  100 min    Unrated  \n",
       "4              Dante's Inferno   71 min        NaN  "
      ]
     },
     "execution_count": 12,
     "metadata": {},
     "output_type": "execute_result"
    }
   ],
   "source": [
    "omdb_df.head()"
   ]
  },
  {
   "cell_type": "code",
   "execution_count": 13,
   "id": "unauthorized-marina",
   "metadata": {},
   "outputs": [],
   "source": [
    "omdb_df['runtime']=omdb_df['runtime'].str.strip('min')"
   ]
  },
  {
   "cell_type": "code",
   "execution_count": 15,
   "id": "disabled-radiation",
   "metadata": {},
   "outputs": [],
   "source": [
    "omdb_df['runtime']=omdb_df['runtime'].str.strip()"
   ]
  },
  {
   "cell_type": "code",
   "execution_count": 16,
   "id": "specified-wheat",
   "metadata": {},
   "outputs": [
    {
     "data": {
      "text/html": [
       "<div>\n",
       "<style scoped>\n",
       "    .dataframe tbody tr th:only-of-type {\n",
       "        vertical-align: middle;\n",
       "    }\n",
       "\n",
       "    .dataframe tbody tr th {\n",
       "        vertical-align: top;\n",
       "    }\n",
       "\n",
       "    .dataframe thead th {\n",
       "        text-align: right;\n",
       "    }\n",
       "</style>\n",
       "<table border=\"1\" class=\"dataframe\">\n",
       "  <thead>\n",
       "    <tr style=\"text-align: right;\">\n",
       "      <th></th>\n",
       "      <th>imdb_id</th>\n",
       "      <th>Genre</th>\n",
       "      <th>Title</th>\n",
       "      <th>runtime</th>\n",
       "      <th>rated</th>\n",
       "    </tr>\n",
       "  </thead>\n",
       "  <tbody>\n",
       "    <tr>\n",
       "      <th>0</th>\n",
       "      <td>tt0000009</td>\n",
       "      <td>Short, Romance</td>\n",
       "      <td>Miss Jerry</td>\n",
       "      <td>40</td>\n",
       "      <td>NaN</td>\n",
       "    </tr>\n",
       "    <tr>\n",
       "      <th>1</th>\n",
       "      <td>tt0000574</td>\n",
       "      <td>Action, Adventure, Biography, Crime, Drama, Hi...</td>\n",
       "      <td>The Story of the Kelly Gang</td>\n",
       "      <td>70</td>\n",
       "      <td>Not Rated</td>\n",
       "    </tr>\n",
       "    <tr>\n",
       "      <th>2</th>\n",
       "      <td>tt0001892</td>\n",
       "      <td>Drama</td>\n",
       "      <td>Den sorte drøm</td>\n",
       "      <td>53</td>\n",
       "      <td>NaN</td>\n",
       "    </tr>\n",
       "    <tr>\n",
       "      <th>3</th>\n",
       "      <td>tt0002101</td>\n",
       "      <td>Drama, History</td>\n",
       "      <td>Cleopatra</td>\n",
       "      <td>100</td>\n",
       "      <td>Unrated</td>\n",
       "    </tr>\n",
       "    <tr>\n",
       "      <th>4</th>\n",
       "      <td>tt0002130</td>\n",
       "      <td>Adventure, Drama, Fantasy, Horror</td>\n",
       "      <td>Dante's Inferno</td>\n",
       "      <td>71</td>\n",
       "      <td>NaN</td>\n",
       "    </tr>\n",
       "  </tbody>\n",
       "</table>\n",
       "</div>"
      ],
      "text/plain": [
       "     imdb_id                                              Genre  \\\n",
       "0  tt0000009                                     Short, Romance   \n",
       "1  tt0000574  Action, Adventure, Biography, Crime, Drama, Hi...   \n",
       "2  tt0001892                                              Drama   \n",
       "3  tt0002101                                     Drama, History   \n",
       "4  tt0002130                  Adventure, Drama, Fantasy, Horror   \n",
       "\n",
       "                         Title runtime      rated  \n",
       "0                   Miss Jerry      40        NaN  \n",
       "1  The Story of the Kelly Gang      70  Not Rated  \n",
       "2               Den sorte drøm      53        NaN  \n",
       "3                    Cleopatra     100    Unrated  \n",
       "4              Dante's Inferno      71        NaN  "
      ]
     },
     "execution_count": 16,
     "metadata": {},
     "output_type": "execute_result"
    }
   ],
   "source": [
    "omdb_df.head()"
   ]
  },
  {
   "cell_type": "code",
   "execution_count": 17,
   "id": "bearing-breathing",
   "metadata": {},
   "outputs": [],
   "source": [
    "omdb_df.to_csv(\"omdb.csv\")"
   ]
  },
  {
   "cell_type": "code",
   "execution_count": 18,
   "id": "expanded-invention",
   "metadata": {},
   "outputs": [],
   "source": [
    "omdb_df2=omdb_df.copy()"
   ]
  },
  {
   "cell_type": "code",
   "execution_count": 21,
   "id": "framed-tuning",
   "metadata": {},
   "outputs": [],
   "source": [
    "omdb3=omdb_df2.fillna('None')"
   ]
  },
  {
   "cell_type": "code",
   "execution_count": 22,
   "id": "collaborative-strain",
   "metadata": {},
   "outputs": [],
   "source": [
    "omdb3.to_csv(\"omdb3.csv\")"
   ]
  },
  {
   "cell_type": "code",
   "execution_count": 24,
   "id": "south-resistance",
   "metadata": {},
   "outputs": [],
   "source": [
    "meh=omdb3.iloc[5827]"
   ]
  },
  {
   "cell_type": "code",
   "execution_count": 26,
   "id": "impaired-logistics",
   "metadata": {},
   "outputs": [
    {
     "data": {
      "text/plain": [
       "'Fifa e arena'"
      ]
     },
     "execution_count": 26,
     "metadata": {},
     "output_type": "execute_result"
    }
   ],
   "source": [
    "meh['Title']"
   ]
  },
  {
   "cell_type": "code",
   "execution_count": 28,
   "id": "round-thong",
   "metadata": {},
   "outputs": [],
   "source": [
    "omdb4=omdb3.drop_duplicates(subset=['imdb_id'], keep='last')"
   ]
  },
  {
   "cell_type": "code",
   "execution_count": 30,
   "id": "statewide-viking",
   "metadata": {},
   "outputs": [
    {
     "data": {
      "text/plain": [
       "28801"
      ]
     },
     "execution_count": 30,
     "metadata": {},
     "output_type": "execute_result"
    }
   ],
   "source": [
    "len(omdb4)"
   ]
  },
  {
   "cell_type": "code",
   "execution_count": 32,
   "id": "driven-tackle",
   "metadata": {},
   "outputs": [],
   "source": [
    "omdb4.to_csv(\"omdb4.csv\")"
   ]
  },
  {
   "cell_type": "code",
   "execution_count": null,
   "id": "literary-thickness",
   "metadata": {},
   "outputs": [],
   "source": []
  }
 ],
 "metadata": {
  "kernelspec": {
   "display_name": "Python [conda env:PythonData] *",
   "language": "python",
   "name": "conda-env-PythonData-py"
  },
  "language_info": {
   "codemirror_mode": {
    "name": "ipython",
    "version": 3
   },
   "file_extension": ".py",
   "mimetype": "text/x-python",
   "name": "python",
   "nbconvert_exporter": "python",
   "pygments_lexer": "ipython3",
   "version": "3.6.10"
  }
 },
 "nbformat": 4,
 "nbformat_minor": 5
}
